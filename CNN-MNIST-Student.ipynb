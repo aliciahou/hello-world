{
  "cells": [
    {
      "cell_type": "markdown",
      "metadata": {
        "id": "view-in-github",
        "colab_type": "text"
      },
      "source": [
        "<a href=\"https://colab.research.google.com/github/aliciahou/hello-world/blob/master/CNN-MNIST-Student.ipynb\" target=\"_parent\"><img src=\"https://colab.research.google.com/assets/colab-badge.svg\" alt=\"Open In Colab\"/></a>"
      ]
    },
    {
      "cell_type": "markdown",
      "metadata": {
        "id": "IXjvBUbWAHBC"
      },
      "source": [
        "![Practicum AI Logo image](https://github.com/PracticumAI/practicumai.github.io/blob/main/images/logo/PracticumAI_logo_250x50.png?raw=true)\n",
        "***\n",
        "# *Practicum AI:* MNIST\n",
        "\n",
        "This exercise adapted from Baig et al. (2020) <i>The Deep Learning Workshop</i> from <a href=\"https://www.packtpub.com/product/the-deep-learning-workshop/9781839219856\">Packt Publishers</a> (Exercise 3.02, page 123).\n",
        "\n",
        "Introduction to Convolution © Daniel Moser, UT Southwestern Medical Center.\n",
        "\n",
        "<div style=\"padding: 10px;margin-bottom: 20px;border: thin solid #65BB7B;border-left-width: 10px;background-color: #fff\"><strong>Note:</strong> This is a rather famous deep learning exercise as it was an early application of CNN's.  At the time, banks needed a quick and easy way to automatically read the handwritten digits on checks.  This simple CNN, developed by Yann LeCun and co-researchers in 1998, solved that problem.</div>"
      ]
    },
    {
      "cell_type": "markdown",
      "metadata": {
        "id": "dsOgOOADAHBD"
      },
      "source": [
        "#### Video Resources\n",
        "- [Andrew Ng Stride Video](https://mediasite.video.ufl.edu/Mediasite/Play/98cde43b4e634b1cab8bc556b77846131d)\n",
        "\n",
        "- [Andrew Ng Padding Video](https://mediasite.video.ufl.edu/Mediasite/Play/09c6ef5af6ed4ea79ad6837e0f5680c31d)\n",
        "\n",
        "- [Andrew Ng Pooling Video](https://mediasite.video.ufl.edu/Mediasite/Play/8fe4282e539644ce9863eceefe258b931d)"
      ]
    },
    {
      "cell_type": "markdown",
      "source": [
        "# Brief Introduction to Convolution\n",
        "Before, we saw a demonstration of using deep learning with **structured**, numerical data. However, one of the largest advantages of using deep learning is with **unstructured** data, such as images. One way to design a classifier for images would be to use each pixel as a separate input feature. However, what if we could instead feed different **spatial** features (e.g. **curvature, edges**) of each image into a network, and have the network learn which features are important for classifying an image? \n",
        "\n",
        "This possible through convolution! Convolution applies **kernels** (filters) that traverse through each image and generate **feature maps**.\n",
        "\n",
        "<img src='https://github.com/AviatorMoser/keras-mnist-tutorial/blob/master/convolution.gif?raw=1'>\n",
        "\n",
        "In the above example, the image is a 5 x 5 matrix and the kernel going over it is a 3 x 3 matrix. A dot product operation takes place between the image and the kernel and the convolved feature is generated. Each kernel in a CNN learns a different characteristic of an image.\n",
        "\n",
        "Kernels are often used in photoediting software to apply blurring, edge detection, sharpening, etc.\n",
        "\n",
        "Kernels in deep learning networks are used in similar ways, i.e. highlighting some feature. Combined with a system called **max pooling**, the non-highlighted elements are discarded from each feature map, leaving only the features of interest, reducing the number of learned parameters, and decreasing the computational cost (e.g. system memory).\n",
        "\n",
        "<img src='https://github.com/AviatorMoser/keras-mnist-tutorial/blob/master/max_pooling.png?raw=1'>\n",
        "\n",
        "We can also take convolutions of convolutions -- we can stack as many convolutions as we want, as long as there are enough pixels to fit a kernel."
      ],
      "metadata": {
        "id": "5LOmoQfMBlT9"
      }
    },
    {
      "cell_type": "markdown",
      "metadata": {
        "id": "2F9TN8ErAHBD"
      },
      "source": [
        "#### 1. Import dataset\n",
        "\n",
        "Import the MNIST data set."
      ]
    },
    {
      "cell_type": "code",
      "execution_count": 1,
      "metadata": {
        "id": "Rczq9tXYAHBD"
      },
      "outputs": [],
      "source": [
        "import keras.datasets.mnist as mnist"
      ]
    },
    {
      "cell_type": "markdown",
      "metadata": {
        "id": "MZP4YlSWAHBE"
      },
      "source": [
        "#### 2. Load MNIST data"
      ]
    },
    {
      "cell_type": "code",
      "execution_count": 2,
      "metadata": {
        "id": "ulP1qxrxAHBE",
        "outputId": "398843dc-32eb-4c94-e407-cac4e606f112",
        "colab": {
          "base_uri": "https://localhost:8080/"
        }
      },
      "outputs": [
        {
          "output_type": "stream",
          "name": "stdout",
          "text": [
            "Downloading data from https://storage.googleapis.com/tensorflow/tf-keras-datasets/mnist.npz\n",
            "11493376/11490434 [==============================] - 0s 0us/step\n",
            "11501568/11490434 [==============================] - 0s 0us/step\n"
          ]
        }
      ],
      "source": [
        "# Code it!\n",
        "(features_train, label_train), (features_test, label_test) = mnist.load_data()"
      ]
    },
    {
      "cell_type": "markdown",
      "metadata": {
        "id": "Hra2ZpOOAHBE"
      },
      "source": [
        "#### 3. Examine label_train"
      ]
    },
    {
      "cell_type": "code",
      "execution_count": 3,
      "metadata": {
        "id": "8NgXcd-IAHBE",
        "outputId": "949da871-a667-474a-aa41-b253f3c38802",
        "colab": {
          "base_uri": "https://localhost:8080/"
        }
      },
      "outputs": [
        {
          "output_type": "execute_result",
          "data": {
            "text/plain": [
              "array([5, 0, 4, ..., 5, 6, 8], dtype=uint8)"
            ]
          },
          "metadata": {},
          "execution_count": 3
        }
      ],
      "source": [
        "# Code it!\n",
        "label_train"
      ]
    },
    {
      "cell_type": "markdown",
      "metadata": {
        "id": "iJT-KABFAHBE"
      },
      "source": [
        "#### 4. Examine the training dataset\n",
        "\n",
        "Our training dataset has 60000  28 x 28 pixel images."
      ]
    },
    {
      "cell_type": "code",
      "execution_count": 4,
      "metadata": {
        "id": "KnOPdhFZAHBF",
        "outputId": "25858701-1ca5-4e07-e501-ad37dda5111c",
        "colab": {
          "base_uri": "https://localhost:8080/"
        }
      },
      "outputs": [
        {
          "output_type": "execute_result",
          "data": {
            "text/plain": [
              "(60000, 28, 28)"
            ]
          },
          "metadata": {},
          "execution_count": 4
        }
      ],
      "source": [
        "# Code it!\n",
        "features_train.shape"
      ]
    },
    {
      "cell_type": "markdown",
      "source": [
        "View some samples in our training dataset to get a better feel for the data."
      ],
      "metadata": {
        "id": "wQOWQEOpBQCy"
      }
    },
    {
      "cell_type": "code",
      "source": [
        "import matplotlib.pyplot as plt\n",
        "plt.gray()\n",
        "\n",
        "plt.imshow(features_train[0])"
      ],
      "metadata": {
        "id": "KxwvJNQXBOoT",
        "outputId": "b50c8681-b371-4d2b-a791-8bb408e618e9",
        "colab": {
          "base_uri": "https://localhost:8080/",
          "height": 282
        }
      },
      "execution_count": 5,
      "outputs": [
        {
          "output_type": "execute_result",
          "data": {
            "text/plain": [
              "<matplotlib.image.AxesImage at 0x7fd3e23b7850>"
            ]
          },
          "metadata": {},
          "execution_count": 5
        },
        {
          "output_type": "display_data",
          "data": {
            "text/plain": [
              "<Figure size 432x288 with 1 Axes>"
            ],
            "image/png": "[encoded data removed]"
          },
          "metadata": {
            "needs_background": "light"
          }
        }
      ]
    },
    {
      "cell_type": "code",
      "source": [
        "# Code it! (check out another example image)\n",
        "plt.imshow(features_train[10])"
      ],
      "metadata": {
        "id": "Md-PGi8SDx9I",
        "outputId": "8278a740-05cf-4b9d-ad27-ae4057920314",
        "colab": {
          "base_uri": "https://localhost:8080/",
          "height": 282
        }
      },
      "execution_count": 6,
      "outputs": [
        {
          "output_type": "execute_result",
          "data": {
            "text/plain": [
              "<matplotlib.image.AxesImage at 0x7fd3e19cd950>"
            ]
          },
          "metadata": {},
          "execution_count": 6
        },
        {
          "output_type": "display_data",
          "data": {
            "text/plain": [
              "<Figure size 432x288 with 1 Axes>"
            ],
            "image/png": "[encoded data removed]"
          },
          "metadata": {
            "needs_background": "light"
          }
        }
      ]
    },
    {
      "cell_type": "code",
      "source": [
        "# Code it!\n",
        "plt.imshow(features_train[50])"
      ],
      "metadata": {
        "id": "Rxi3ikodD0hq",
        "outputId": "b92568fe-faab-4621-a5c0-2777b8b6b68a",
        "colab": {
          "base_uri": "https://localhost:8080/",
          "height": 282
        }
      },
      "execution_count": 7,
      "outputs": [
        {
          "output_type": "execute_result",
          "data": {
            "text/plain": [
              "<matplotlib.image.AxesImage at 0x7fd3e1943550>"
            ]
          },
          "metadata": {},
          "execution_count": 7
        },
        {
          "output_type": "display_data",
          "data": {
            "text/plain": [
              "<Figure size 432x288 with 1 Axes>"
            ],
            "image/png": "[encoded data removed]"
          },
          "metadata": {
            "needs_background": "light"
          }
        }
      ]
    },
    {
      "cell_type": "markdown",
      "metadata": {
        "id": "JMWyaKZYAHBF"
      },
      "source": [
        "#### 5. Examine the test dataset\n",
        "\n",
        "Our test dataset has 10000  28 x 28 pixel images."
      ]
    },
    {
      "cell_type": "code",
      "execution_count": 8,
      "metadata": {
        "id": "xoK6vy9_AHBF",
        "outputId": "70955bbf-35b8-4e36-9df9-4319794ad4cd",
        "colab": {
          "base_uri": "https://localhost:8080/"
        }
      },
      "outputs": [
        {
          "output_type": "execute_result",
          "data": {
            "text/plain": [
              "(10000, 28, 28)"
            ]
          },
          "metadata": {},
          "execution_count": 8
        }
      ],
      "source": [
        "# Code it!\n",
        "features_test.shape"
      ]
    },
    {
      "cell_type": "markdown",
      "metadata": {
        "id": "Bf6cq4vUAHBF"
      },
      "source": [
        "#### 6. Reshape the training and test datasets"
      ]
    },
    {
      "cell_type": "code",
      "execution_count": 9,
      "metadata": {
        "id": "Bygkyi7UAHBF"
      },
      "outputs": [],
      "source": [
        "# Code it!\n",
        "features_train = features_train.reshape(60000, 28, 28, 1)"
      ]
    },
    {
      "cell_type": "code",
      "source": [
        "features_test = features_test.reshape(10000, 28, 28, 1)"
      ],
      "metadata": {
        "id": "yAZ1Ugzq3Yq3"
      },
      "execution_count": 15,
      "outputs": []
    },
    {
      "cell_type": "markdown",
      "metadata": {
        "id": "ffGTAaBGAHBF"
      },
      "source": [
        "#### 7. Standardize test and train features"
      ]
    },
    {
      "cell_type": "code",
      "execution_count": 10,
      "metadata": {
        "id": "hYBA28bTAHBF"
      },
      "outputs": [],
      "source": [
        "# Code it!\n",
        "features_train = features_train / 255.0\n",
        "features_test = features_test / 255.0"
      ]
    },
    {
      "cell_type": "markdown",
      "metadata": {
        "id": "tsCDxIGaAHBF"
      },
      "source": [
        "#### 8. Import additional libraries"
      ]
    },
    {
      "cell_type": "code",
      "execution_count": 11,
      "metadata": {
        "id": "nCvJKEGEAHBF"
      },
      "outputs": [],
      "source": [
        "import numpy as np\n",
        "import tensorflow as tf\n",
        "from keras.models import Sequential\n",
        "from keras.layers import Dense, Conv2D, MaxPooling2D, Flatten"
      ]
    },
    {
      "cell_type": "markdown",
      "metadata": {
        "id": "NdjECeNaAHBF"
      },
      "source": [
        "#### 9. Set seeds to ensure reproducibility"
      ]
    },
    {
      "cell_type": "code",
      "execution_count": 12,
      "metadata": {
        "id": "5tIeC-pXAHBG"
      },
      "outputs": [],
      "source": [
        "# Code it!\n",
        "np.random.seed(8)\n",
        "tf.random.set_seed(8)"
      ]
    },
    {
      "cell_type": "markdown",
      "metadata": {
        "id": "ISxMcw6JAHBG"
      },
      "source": [
        "#### 10. Instantiate a Keras sequential model"
      ]
    },
    {
      "cell_type": "code",
      "execution_count": 13,
      "metadata": {
        "id": "CNCqZWBHAHBG"
      },
      "outputs": [],
      "source": [
        "# Code it!\n",
        "model = Sequential()"
      ]
    },
    {
      "cell_type": "markdown",
      "metadata": {
        "id": "VD0QzFUWAHBG"
      },
      "source": [
        "#### 11. Instantiate the 1st convolutional layer\n",
        "\n",
        "This layer contains 64 kernels of shape (3,3).  The activation function is *relu*, and the incoming data will be of shape (28, 28, 1)."
      ]
    },
    {
      "cell_type": "code",
      "execution_count": 14,
      "metadata": {
        "id": "gcNRU3SYAHBG"
      },
      "outputs": [],
      "source": [
        "# Code it!\n",
        "conv_layer1 = Conv2D(64, (3,3), activation='relu', input_shape=(28,28,1))\n"
      ]
    },
    {
      "cell_type": "markdown",
      "metadata": {
        "id": "Tqz8OcOCAHBG"
      },
      "source": [
        "#### 12. Instantiate the 2nd convolutional layer\n",
        "\n",
        "This layer contains 64 kernels of shape (3,3), using *relu* as the activation function."
      ]
    },
    {
      "cell_type": "code",
      "execution_count": 15,
      "metadata": {
        "id": "Y2OMqc__AHBG"
      },
      "outputs": [],
      "source": [
        "# Code it!\n",
        "conv_layer2 = Conv2D(64, (3,3), activation='relu')"
      ]
    },
    {
      "cell_type": "markdown",
      "metadata": {
        "id": "fwxYhRAHAHBG"
      },
      "source": [
        "#### 13. Instantiate a dense layer\n",
        "\n",
        "This layer contains 128 neurons, using *relu* as the activation function."
      ]
    },
    {
      "cell_type": "code",
      "execution_count": 16,
      "metadata": {
        "id": "3F1kIoLwAHBG"
      },
      "outputs": [],
      "source": [
        "# Code it!\n",
        "fc_layer1 = Dense(128, activation='relu')"
      ]
    },
    {
      "cell_type": "markdown",
      "metadata": {
        "id": "TwL7PI1xAHBG"
      },
      "source": [
        "#### 14. Instantiate a dense layer\n",
        "\n",
        "This layer contains 10 neurons, using *relu* as the activation function."
      ]
    },
    {
      "cell_type": "code",
      "execution_count": 17,
      "metadata": {
        "id": "WtRzwtzsAHBG"
      },
      "outputs": [],
      "source": [
        "# Code it!\n",
        "fc_layer2 = Dense(10, activation='softmax')\n"
      ]
    },
    {
      "cell_type": "markdown",
      "metadata": {
        "id": "bYUEsdDEAHBG"
      },
      "source": [
        "#### 15. Add layers to the model\n",
        "\n",
        "Add the four layers that were just defined as well as two max pooling layers and a flatten layer, in the order indicated here."
      ]
    },
    {
      "cell_type": "code",
      "execution_count": 18,
      "metadata": {
        "id": "xfl-5cTmAHBH"
      },
      "outputs": [],
      "source": [
        "# Code it!\n",
        "model.add(conv_layer1)\n",
        "model.add(MaxPooling2D(2,2))\n",
        "model.add(conv_layer2)\n",
        "model.add(MaxPooling2D(2,2))\n",
        "model.add(Flatten())\n",
        "model.add(fc_layer1)\n",
        "model.add(fc_layer2)"
      ]
    },
    {
      "cell_type": "markdown",
      "metadata": {
        "id": "fXDKOHlhAHBH"
      },
      "source": [
        "#### 17. Compile the model"
      ]
    },
    {
      "cell_type": "code",
      "execution_count": 20,
      "metadata": {
        "id": "1GG32hFaAHBH"
      },
      "outputs": [],
      "source": [
        "# Code it!\n",
        "model.compile(loss=\"sparse_categorical_crossentropy\", optimizer='adam', metrics=['accuracy'])"
      ]
    },
    {
      "cell_type": "markdown",
      "metadata": {
        "id": "tHSfdofzAHBH"
      },
      "source": [
        "#### 18. Print a summary of the model"
      ]
    },
    {
      "cell_type": "code",
      "execution_count": 21,
      "metadata": {
        "id": "X6BqLLyJAHBH",
        "outputId": "42e8e46d-77a6-4d38-8288-c5a4e52ffa76",
        "colab": {
          "base_uri": "https://localhost:8080/"
        }
      },
      "outputs": [
        {
          "output_type": "stream",
          "name": "stdout",
          "text": [
            "Model: \"sequential\"\n",
            "_________________________________________________________________\n",
            " Layer (type)                Output Shape              Param #   \n",
            "=================================================================\n",
            " conv2d (Conv2D)             (None, 26, 26, 64)        640       \n",
            "                                                                 \n",
            " max_pooling2d (MaxPooling2D  (None, 13, 13, 64)       0         \n",
            " )                                                               \n",
            "                                                                 \n",
            " conv2d_1 (Conv2D)           (None, 11, 11, 64)        36928     \n",
            "                                                                 \n",
            " max_pooling2d_1 (MaxPooling  (None, 5, 5, 64)         0         \n",
            " 2D)                                                             \n",
            "                                                                 \n",
            " flatten (Flatten)           (None, 1600)              0         \n",
            "                                                                 \n",
            " dense (Dense)               (None, 128)               204928    \n",
            "                                                                 \n",
            " dense_1 (Dense)             (None, 10)                1290      \n",
            "                                                                 \n",
            "=================================================================\n",
            "Total params: 243,786\n",
            "Trainable params: 243,786\n",
            "Non-trainable params: 0\n",
            "_________________________________________________________________\n"
          ]
        }
      ],
      "source": [
        "# Code it!\n",
        "model.summary()"
      ]
    },
    {
      "cell_type": "markdown",
      "metadata": {
        "id": "XFUg8jOrAHBH"
      },
      "source": [
        "#### 19. Fit (train) the model"
      ]
    },
    {
      "cell_type": "code",
      "execution_count": null,
      "metadata": {
        "id": "gtYn5q0gAHBH"
      },
      "outputs": [],
      "source": [
        "# Code it!"
      ]
    },
    {
      "cell_type": "markdown",
      "metadata": {
        "id": "x42GEDLsAHBH"
      },
      "source": [
        "#### 20. Evaluate the model"
      ]
    },
    {
      "cell_type": "code",
      "execution_count": null,
      "metadata": {
        "id": "f1fNBqf7AHBH"
      },
      "outputs": [],
      "source": [
        "# Code it!"
      ]
    }
  ],
  "metadata": {
    "kernelspec": {
      "display_name": "Python 3 (ipykernel)",
      "language": "python",
      "name": "python3"
    },
    "language_info": {
      "codemirror_mode": {
        "name": "ipython",
        "version": 3
      },
      "file_extension": ".py",
      "mimetype": "text/x-python",
      "name": "python",
      "nbconvert_exporter": "python",
      "pygments_lexer": "ipython3",
      "version": "3.8.1"
    },
    "colab": {
      "name": "CNN-MNIST-Student.ipynb",
      "provenance": [],
      "collapsed_sections": [],
      "include_colab_link": true
    },
    "accelerator": "GPU"
  },
  "nbformat": 4,
  "nbformat_minor": 0
}